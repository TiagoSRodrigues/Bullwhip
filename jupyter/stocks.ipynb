{
 "cells": [
  {
   "cell_type": "code",
   "execution_count": 215,
   "id": "de8d4c95",
   "metadata": {},
   "outputs": [],
   "source": [
    "%run db_connection.ipynb\n",
    "\n",
    "mongo = db_connection()\n",
    "import pandas as pd\n",
    "import seaborn as sns\n",
    "import matplotlib.pyplot as plt\n",
    "import numpy as np\n",
    "\n",
    "\n",
    "\n",
    "\n",
    "def get_actor_orders_df(actor_id):\n",
    "    data=mongo.get_actor_orders(actor_id)\n",
    "    return pd.DataFrame(data[\"orders_\"+str(actor_id)][0]) "
   ]
  },
  {
   "cell_type": "code",
   "execution_count": 216,
   "id": "93967708",
   "metadata": {},
   "outputs": [],
   "source": [
    "frames=[]\n",
    "for el in range(1,6):\n",
    "    frames.append(get_actor_orders_df(el))\n",
    "all_actors=pd.concat(frames)"
   ]
  },
  {
   "cell_type": "code",
   "execution_count": 217,
   "id": "06ade520",
   "metadata": {},
   "outputs": [],
   "source": [
    "def get_inventory_snapshot():\n",
    "\n",
    "    data_array=mongo.get_inventory_snapshot()[\"inventory_snapshot\"]\n",
    "\n",
    "    inventory_stapshot=[]\n",
    "    for data_row in data_array:\n",
    "\n",
    "\n",
    "        for actor_id, actor_inv in data_row[\"inventory\"].items():\n",
    "            actor_dic={}\n",
    "\n",
    "            for actor_row in actor_inv:\n",
    "                actor_dic[\"day\"]=int(data_row[\"_id\"])\n",
    "                actor_dic[\"actor\"]=int(actor_id)\n",
    "                actor_dic[\"product\"]=int(actor_inv[actor_row][\"id\"])\n",
    "                actor_dic[\"in_stock\"]=int(actor_inv[actor_row][\"in_stock\"])\n",
    "                try:\n",
    "                    actor_dic[\"safety_stock\"]=int(actor_inv[actor_row][\"safety_stock\"])\n",
    "                except:\n",
    "                    continue\n",
    "            inventory_stapshot.append(actor_dic)\n",
    "\n",
    "    return pd.DataFrame(inventory_stapshot)\n",
    "\n"
   ]
  },
  {
   "cell_type": "code",
   "execution_count": 218,
   "id": "23efc574",
   "metadata": {},
   "outputs": [
    {
     "data": {
      "text/html": [
       "<div>\n",
       "<style scoped>\n",
       "    .dataframe tbody tr th:only-of-type {\n",
       "        vertical-align: middle;\n",
       "    }\n",
       "\n",
       "    .dataframe tbody tr th {\n",
       "        vertical-align: top;\n",
       "    }\n",
       "\n",
       "    .dataframe thead th {\n",
       "        text-align: right;\n",
       "    }\n",
       "</style>\n",
       "<table border=\"1\" class=\"dataframe\">\n",
       "  <thead>\n",
       "    <tr style=\"text-align: right;\">\n",
       "      <th></th>\n",
       "      <th>day</th>\n",
       "      <th>actor</th>\n",
       "      <th>product</th>\n",
       "      <th>in_stock</th>\n",
       "      <th>safety_stock</th>\n",
       "    </tr>\n",
       "  </thead>\n",
       "  <tbody>\n",
       "    <tr>\n",
       "      <th>0</th>\n",
       "      <td>1</td>\n",
       "      <td>1</td>\n",
       "      <td>1001</td>\n",
       "      <td>13648</td>\n",
       "      <td>0.0</td>\n",
       "    </tr>\n",
       "    <tr>\n",
       "      <th>1</th>\n",
       "      <td>1</td>\n",
       "      <td>2</td>\n",
       "      <td>2001</td>\n",
       "      <td>13648</td>\n",
       "      <td>0.0</td>\n",
       "    </tr>\n",
       "    <tr>\n",
       "      <th>2</th>\n",
       "      <td>1</td>\n",
       "      <td>3</td>\n",
       "      <td>3001</td>\n",
       "      <td>13648</td>\n",
       "      <td>0.0</td>\n",
       "    </tr>\n",
       "    <tr>\n",
       "      <th>3</th>\n",
       "      <td>1</td>\n",
       "      <td>4</td>\n",
       "      <td>4001</td>\n",
       "      <td>13648</td>\n",
       "      <td>0.0</td>\n",
       "    </tr>\n",
       "    <tr>\n",
       "      <th>4</th>\n",
       "      <td>1</td>\n",
       "      <td>5</td>\n",
       "      <td>5001</td>\n",
       "      <td>9999999999</td>\n",
       "      <td>1.0</td>\n",
       "    </tr>\n",
       "    <tr>\n",
       "      <th>...</th>\n",
       "      <td>...</td>\n",
       "      <td>...</td>\n",
       "      <td>...</td>\n",
       "      <td>...</td>\n",
       "      <td>...</td>\n",
       "    </tr>\n",
       "    <tr>\n",
       "      <th>34435</th>\n",
       "      <td>5740</td>\n",
       "      <td>2</td>\n",
       "      <td>3001</td>\n",
       "      <td>0</td>\n",
       "      <td>NaN</td>\n",
       "    </tr>\n",
       "    <tr>\n",
       "      <th>34436</th>\n",
       "      <td>5740</td>\n",
       "      <td>3</td>\n",
       "      <td>4001</td>\n",
       "      <td>10388</td>\n",
       "      <td>NaN</td>\n",
       "    </tr>\n",
       "    <tr>\n",
       "      <th>34437</th>\n",
       "      <td>5740</td>\n",
       "      <td>4</td>\n",
       "      <td>5001</td>\n",
       "      <td>944808</td>\n",
       "      <td>NaN</td>\n",
       "    </tr>\n",
       "    <tr>\n",
       "      <th>34438</th>\n",
       "      <td>5740</td>\n",
       "      <td>5</td>\n",
       "      <td>5001</td>\n",
       "      <td>10448592</td>\n",
       "      <td>1.0</td>\n",
       "    </tr>\n",
       "    <tr>\n",
       "      <th>34439</th>\n",
       "      <td>5740</td>\n",
       "      <td>0</td>\n",
       "      <td>1001</td>\n",
       "      <td>30195</td>\n",
       "      <td>NaN</td>\n",
       "    </tr>\n",
       "  </tbody>\n",
       "</table>\n",
       "<p>34440 rows × 5 columns</p>\n",
       "</div>"
      ],
      "text/plain": [
       "        day  actor  product    in_stock  safety_stock\n",
       "0         1      1     1001       13648           0.0\n",
       "1         1      2     2001       13648           0.0\n",
       "2         1      3     3001       13648           0.0\n",
       "3         1      4     4001       13648           0.0\n",
       "4         1      5     5001  9999999999           1.0\n",
       "...     ...    ...      ...         ...           ...\n",
       "34435  5740      2     3001           0           NaN\n",
       "34436  5740      3     4001       10388           NaN\n",
       "34437  5740      4     5001      944808           NaN\n",
       "34438  5740      5     5001    10448592           1.0\n",
       "34439  5740      0     1001       30195           NaN\n",
       "\n",
       "[34440 rows x 5 columns]"
      ]
     },
     "execution_count": 218,
     "metadata": {},
     "output_type": "execute_result"
    }
   ],
   "source": [
    "# show_inventory_evolution\n",
    "df=get_inventory_snapshot()\n",
    "df"
   ]
  },
  {
   "cell_type": "code",
   "execution_count": 219,
   "id": "4d66f817",
   "metadata": {},
   "outputs": [],
   "source": [
    "df0=df.loc[df['actor'] == 0]\n",
    "df1=df.loc[df['actor'] == 1]\n",
    "df2=df.loc[df['actor'] == 2]\n",
    "df3=df.loc[df['actor'] == 3]\n",
    "df4=df.loc[df['actor'] == 4]\n",
    "df5=df.loc[df['actor'] == 5]\n"
   ]
  },
  {
   "cell_type": "code",
   "execution_count": 220,
   "id": "ec45f445",
   "metadata": {},
   "outputs": [],
   "source": [
    "# plt.plot( \"day\", \"in_stock\", \"\", data=pltdf, linestyle='-', marker='o', markersize=0.7)\n"
   ]
  },
  {
   "cell_type": "code",
   "execution_count": 221,
   "id": "c521331e",
   "metadata": {},
   "outputs": [
    {
     "data": {
      "text/plain": [
       "[<matplotlib.lines.Line2D at 0x1fdbaa9ac10>]"
      ]
     },
     "execution_count": 221,
     "metadata": {},
     "output_type": "execute_result"
    },
    {
     "data": {
      "image/png": "[encoded data removed]",
      "text/plain": [
       "<Figure size 432x288 with 1 Axes>"
      ]
     },
     "metadata": {
      "needs_background": "light"
     },
     "output_type": "display_data"
    }
   ],
   "source": [
    "plt.plot( \"day\", \"in_stock\", \"\", data=df1,  marker='o', markersize=0.7)"
   ]
  },
  {
   "cell_type": "code",
   "execution_count": 222,
   "id": "7d9b09f7",
   "metadata": {},
   "outputs": [
    {
     "data": {
      "text/plain": [
       "[<matplotlib.lines.Line2D at 0x1fdb369e4f0>]"
      ]
     },
     "execution_count": 222,
     "metadata": {},
     "output_type": "execute_result"
    },
    {
     "data": {
      "image/png": "[encoded data removed]",
      "text/plain": [
       "<Figure size 432x288 with 1 Axes>"
      ]
     },
     "metadata": {
      "needs_background": "light"
     },
     "output_type": "display_data"
    }
   ],
   "source": [
    "plt.plot( \"day\", \"in_stock\", \"\", data=df2,  marker='o', markersize=0.7)"
   ]
  },
  {
   "cell_type": "code",
   "execution_count": 223,
   "id": "bb3d2ba3",
   "metadata": {},
   "outputs": [
    {
     "data": {
      "text/plain": [
       "[<matplotlib.lines.Line2D at 0x1fdb37c8760>]"
      ]
     },
     "execution_count": 223,
     "metadata": {},
     "output_type": "execute_result"
    },
    {
     "data": {
      "image/png": "[encoded data removed]",
      "text/plain": [
       "<Figure size 432x288 with 1 Axes>"
      ]
     },
     "metadata": {
      "needs_background": "light"
     },
     "output_type": "display_data"
    }
   ],
   "source": [
    "plt.plot( \"day\", \"in_stock\", \"\", data=df3,  marker='o', markersize=0.7)"
   ]
  },
  {
   "cell_type": "code",
   "execution_count": 224,
   "id": "50298e14",
   "metadata": {},
   "outputs": [
    {
     "data": {
      "text/plain": [
       "[<matplotlib.lines.Line2D at 0x1fdb3772a00>]"
      ]
     },
     "execution_count": 224,
     "metadata": {},
     "output_type": "execute_result"
    },
    {
     "data": {
      "image/png": "[encoded data removed]",
      "text/plain": [
       "<Figure size 432x288 with 1 Axes>"
      ]
     },
     "metadata": {
      "needs_background": "light"
     },
     "output_type": "display_data"
    }
   ],
   "source": [
    "plt.plot( \"day\", \"in_stock\", \"\", data=df4,  marker='o', markersize=0.7)"
   ]
  },
  {
   "cell_type": "code",
   "execution_count": 225,
   "id": "43e4090a",
   "metadata": {},
   "outputs": [
    {
     "data": {
      "text/plain": [
       "[<matplotlib.lines.Line2D at 0x1fdb3664160>]"
      ]
     },
     "execution_count": 225,
     "metadata": {},
     "output_type": "execute_result"
    },
    {
     "data": {
      "image/png": "[encoded data removed]",
      "text/plain": [
       "<Figure size 432x288 with 1 Axes>"
      ]
     },
     "metadata": {
      "needs_background": "light"
     },
     "output_type": "display_data"
    }
   ],
   "source": [
    "plt.plot( \"day\", \"in_stock\", \"\", data=df5,  marker='o', markersize=0.7)"
   ]
  },
  {
   "cell_type": "code",
   "execution_count": 226,
   "id": "972944ec",
   "metadata": {},
   "outputs": [],
   "source": [
    "dfx=df0.describe()"
   ]
  },
  {
   "cell_type": "code",
   "execution_count": 227,
   "id": "9379f8af",
   "metadata": {},
   "outputs": [
    {
     "name": "stdout",
     "output_type": "stream",
     "text": [
      "in stock \n",
      "\n",
      " count     5740\n",
      "mean     30083\n",
      "std       1655\n",
      "min          0\n",
      "25%      30195\n",
      "50%      30195\n",
      "75%      30195\n",
      "max      30195\n",
      "Name: in_stock, dtype: object \n",
      "\n",
      " count     5740\n",
      "mean        11\n",
      "std        251\n",
      "min          0\n",
      "25%          0\n",
      "50%          0\n",
      "75%          0\n",
      "max      13648\n",
      "Name: in_stock, dtype: object \n",
      "\n",
      " count     5740\n",
      "mean         9\n",
      "std        284\n",
      "min          0\n",
      "25%          0\n",
      "50%          0\n",
      "75%          0\n",
      "max      13648\n",
      "Name: in_stock, dtype: object \n",
      "\n",
      " count     5740\n",
      "mean     10374\n",
      "std        346\n",
      "min       3280\n",
      "25%      10388\n",
      "50%      10388\n",
      "75%      10388\n",
      "max      13648\n",
      "Name: in_stock, dtype: object \n",
      "\n",
      " count      5740\n",
      "mean     941595\n",
      "std       52496\n",
      "min        3260\n",
      "25%      944808\n",
      "50%      944808\n",
      "75%      944808\n",
      "max      944808\n",
      "Name: in_stock, dtype: object \n",
      "\n",
      " count          5740\n",
      "mean      101139599\n",
      "std       867436401\n",
      "min        10448592\n",
      "25%        10448592\n",
      "50%        10448592\n",
      "75%        10448592\n",
      "max      9999999999\n",
      "Name: in_stock, dtype: object \n",
      "\n",
      "\n"
     ]
    }
   ],
   "source": [
    "print(\"in stock\",\"\\n\\n\",\n",
    "    df0[\"in_stock\"].describe().apply(\"{0:.0f}\".format),\"\\n\\n\",\n",
    "    df1[\"in_stock\"].describe().apply(\"{0:.0f}\".format),\"\\n\\n\",\n",
    "    df2[\"in_stock\"].describe().apply(\"{0:.0f}\".format),\"\\n\\n\",\n",
    "    df3[\"in_stock\"].describe().apply(\"{0:.0f}\".format),\"\\n\\n\",\n",
    "    df4[\"in_stock\"].describe().apply(\"{0:.0f}\".format),\"\\n\\n\",\n",
    "    df5[\"in_stock\"].describe().apply(\"{0:.0f}\".format),\"\\n\\n\")\n"
   ]
  },
  {
   "cell_type": "code",
   "execution_count": null,
   "id": "1b8132cc",
   "metadata": {},
   "outputs": [],
   "source": []
  },
  {
   "cell_type": "code",
   "execution_count": null,
   "id": "85f47624",
   "metadata": {},
   "outputs": [],
   "source": []
  },
  {
   "cell_type": "code",
   "execution_count": null,
   "id": "f22ece61",
   "metadata": {},
   "outputs": [],
   "source": []
  }
 ],
 "metadata": {
  "kernelspec": {
   "display_name": "Python 3",
   "language": "python",
   "name": "python3"
  },
  "language_info": {
   "codemirror_mode": {
    "name": "ipython",
    "version": 3
   },
   "file_extension": ".py",
   "mimetype": "text/x-python",
   "name": "python",
   "nbconvert_exporter": "python",
   "pygments_lexer": "ipython3",
   "version": "3.9.10"
  }
 },
 "nbformat": 4,
 "nbformat_minor": 5
}
