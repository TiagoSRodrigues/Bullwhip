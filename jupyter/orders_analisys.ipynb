{
 "cells": [
  {
   "cell_type": "code",
   "execution_count": 405,
   "id": "5d5945dd",
   "metadata": {},
   "outputs": [],
   "source": [
    "%run db_connection.ipynb\n",
    "\n",
    "mongo = db_connection()\n",
    "import pandas as pd"
   ]
  },
  {
   "cell_type": "code",
   "execution_count": 406,
   "id": "ffbc3479",
   "metadata": {},
   "outputs": [],
   "source": [
    "def get_actor_orders_df(actor_id):\n",
    "    data=mongo.get_actor_orders(actor_id)\n",
    "    return pd.DataFrame(data[\"orders_\"+str(actor_id)][0]) \n"
   ]
  },
  {
   "cell_type": "code",
   "execution_count": 407,
   "id": "0efca437",
   "metadata": {},
   "outputs": [
    {
     "data": {
      "text/html": [
       "<div>\n",
       "<style scoped>\n",
       "    .dataframe tbody tr th:only-of-type {\n",
       "        vertical-align: middle;\n",
       "    }\n",
       "\n",
       "    .dataframe tbody tr th {\n",
       "        vertical-align: top;\n",
       "    }\n",
       "\n",
       "    .dataframe thead th {\n",
       "        text-align: right;\n",
       "    }\n",
       "</style>\n",
       "<table border=\"1\" class=\"dataframe\">\n",
       "  <thead>\n",
       "    <tr style=\"text-align: right;\">\n",
       "      <th></th>\n",
       "      <th>_id</th>\n",
       "      <th>actor_id</th>\n",
       "      <th>order_time</th>\n",
       "      <th>product</th>\n",
       "      <th>quantity</th>\n",
       "      <th>client</th>\n",
       "      <th>status</th>\n",
       "      <th>close_time</th>\n",
       "    </tr>\n",
       "  </thead>\n",
       "  <tbody>\n",
       "    <tr>\n",
       "      <th>count</th>\n",
       "      <td>5.740000e+03</td>\n",
       "      <td>5740.0</td>\n",
       "      <td>5740.000000</td>\n",
       "      <td>5740.0</td>\n",
       "      <td>5740.000000</td>\n",
       "      <td>5740.0</td>\n",
       "      <td>5740.000000</td>\n",
       "      <td>3.000000</td>\n",
       "    </tr>\n",
       "    <tr>\n",
       "      <th>mean</th>\n",
       "      <td>1.002870e+06</td>\n",
       "      <td>1.0</td>\n",
       "      <td>2870.500000</td>\n",
       "      <td>1001.0</td>\n",
       "      <td>12049.055923</td>\n",
       "      <td>0.0</td>\n",
       "      <td>0.000523</td>\n",
       "      <td>11.000000</td>\n",
       "    </tr>\n",
       "    <tr>\n",
       "      <th>std</th>\n",
       "      <td>1.657140e+03</td>\n",
       "      <td>0.0</td>\n",
       "      <td>1657.139604</td>\n",
       "      <td>0.0</td>\n",
       "      <td>1599.494149</td>\n",
       "      <td>0.0</td>\n",
       "      <td>0.022858</td>\n",
       "      <td>8.717798</td>\n",
       "    </tr>\n",
       "    <tr>\n",
       "      <th>min</th>\n",
       "      <td>1.000001e+06</td>\n",
       "      <td>1.0</td>\n",
       "      <td>1.000000</td>\n",
       "      <td>1001.0</td>\n",
       "      <td>8252.000000</td>\n",
       "      <td>0.0</td>\n",
       "      <td>0.000000</td>\n",
       "      <td>1.000000</td>\n",
       "    </tr>\n",
       "    <tr>\n",
       "      <th>25%</th>\n",
       "      <td>1.001436e+06</td>\n",
       "      <td>1.0</td>\n",
       "      <td>1435.750000</td>\n",
       "      <td>1001.0</td>\n",
       "      <td>11134.750000</td>\n",
       "      <td>0.0</td>\n",
       "      <td>0.000000</td>\n",
       "      <td>8.000000</td>\n",
       "    </tr>\n",
       "    <tr>\n",
       "      <th>50%</th>\n",
       "      <td>1.002870e+06</td>\n",
       "      <td>1.0</td>\n",
       "      <td>2870.500000</td>\n",
       "      <td>1001.0</td>\n",
       "      <td>12080.000000</td>\n",
       "      <td>0.0</td>\n",
       "      <td>0.000000</td>\n",
       "      <td>15.000000</td>\n",
       "    </tr>\n",
       "    <tr>\n",
       "      <th>75%</th>\n",
       "      <td>1.004305e+06</td>\n",
       "      <td>1.0</td>\n",
       "      <td>4305.250000</td>\n",
       "      <td>1001.0</td>\n",
       "      <td>13206.250000</td>\n",
       "      <td>0.0</td>\n",
       "      <td>0.000000</td>\n",
       "      <td>16.000000</td>\n",
       "    </tr>\n",
       "    <tr>\n",
       "      <th>max</th>\n",
       "      <td>1.005740e+06</td>\n",
       "      <td>1.0</td>\n",
       "      <td>5740.000000</td>\n",
       "      <td>1001.0</td>\n",
       "      <td>15990.000000</td>\n",
       "      <td>0.0</td>\n",
       "      <td>1.000000</td>\n",
       "      <td>17.000000</td>\n",
       "    </tr>\n",
       "  </tbody>\n",
       "</table>\n",
       "</div>"
      ],
      "text/plain": [
       "                _id  actor_id   order_time  product      quantity  client  \\\n",
       "count  5.740000e+03    5740.0  5740.000000   5740.0   5740.000000  5740.0   \n",
       "mean   1.002870e+06       1.0  2870.500000   1001.0  12049.055923     0.0   \n",
       "std    1.657140e+03       0.0  1657.139604      0.0   1599.494149     0.0   \n",
       "min    1.000001e+06       1.0     1.000000   1001.0   8252.000000     0.0   \n",
       "25%    1.001436e+06       1.0  1435.750000   1001.0  11134.750000     0.0   \n",
       "50%    1.002870e+06       1.0  2870.500000   1001.0  12080.000000     0.0   \n",
       "75%    1.004305e+06       1.0  4305.250000   1001.0  13206.250000     0.0   \n",
       "max    1.005740e+06       1.0  5740.000000   1001.0  15990.000000     0.0   \n",
       "\n",
       "            status  close_time  \n",
       "count  5740.000000    3.000000  \n",
       "mean      0.000523   11.000000  \n",
       "std       0.022858    8.717798  \n",
       "min       0.000000    1.000000  \n",
       "25%       0.000000    8.000000  \n",
       "50%       0.000000   15.000000  \n",
       "75%       0.000000   16.000000  \n",
       "max       1.000000   17.000000  "
      ]
     },
     "execution_count": 407,
     "metadata": {},
     "output_type": "execute_result"
    }
   ],
   "source": [
    "get_actor_orders_df(1).describe()"
   ]
  },
  {
   "cell_type": "code",
   "execution_count": 408,
   "id": "21616e54",
   "metadata": {},
   "outputs": [
    {
     "data": {
      "text/html": [
       "<div>\n",
       "<style scoped>\n",
       "    .dataframe tbody tr th:only-of-type {\n",
       "        vertical-align: middle;\n",
       "    }\n",
       "\n",
       "    .dataframe tbody tr th {\n",
       "        vertical-align: top;\n",
       "    }\n",
       "\n",
       "    .dataframe thead th {\n",
       "        text-align: right;\n",
       "    }\n",
       "</style>\n",
       "<table border=\"1\" class=\"dataframe\">\n",
       "  <thead>\n",
       "    <tr style=\"text-align: right;\">\n",
       "      <th></th>\n",
       "      <th>_id</th>\n",
       "      <th>actor_id</th>\n",
       "      <th>order_time</th>\n",
       "      <th>product</th>\n",
       "      <th>quantity</th>\n",
       "      <th>client</th>\n",
       "      <th>status</th>\n",
       "      <th>close_time</th>\n",
       "    </tr>\n",
       "  </thead>\n",
       "  <tbody>\n",
       "    <tr>\n",
       "      <th>count</th>\n",
       "      <td>5.739000e+03</td>\n",
       "      <td>5739.0</td>\n",
       "      <td>5739.000000</td>\n",
       "      <td>5739.0</td>\n",
       "      <td>5739.000000</td>\n",
       "      <td>5739.0</td>\n",
       "      <td>5739.000000</td>\n",
       "      <td>2.000000</td>\n",
       "    </tr>\n",
       "    <tr>\n",
       "      <th>mean</th>\n",
       "      <td>2.002870e+06</td>\n",
       "      <td>2.0</td>\n",
       "      <td>2871.000000</td>\n",
       "      <td>2001.0</td>\n",
       "      <td>212230.581112</td>\n",
       "      <td>1.0</td>\n",
       "      <td>0.000348</td>\n",
       "      <td>6.000000</td>\n",
       "    </tr>\n",
       "    <tr>\n",
       "      <th>std</th>\n",
       "      <td>1.656851e+03</td>\n",
       "      <td>0.0</td>\n",
       "      <td>1656.850929</td>\n",
       "      <td>0.0</td>\n",
       "      <td>30025.861185</td>\n",
       "      <td>0.0</td>\n",
       "      <td>0.018666</td>\n",
       "      <td>5.656854</td>\n",
       "    </tr>\n",
       "    <tr>\n",
       "      <th>min</th>\n",
       "      <td>2.000001e+06</td>\n",
       "      <td>2.0</td>\n",
       "      <td>2.000000</td>\n",
       "      <td>2001.0</td>\n",
       "      <td>10089.000000</td>\n",
       "      <td>1.0</td>\n",
       "      <td>0.000000</td>\n",
       "      <td>2.000000</td>\n",
       "    </tr>\n",
       "    <tr>\n",
       "      <th>25%</th>\n",
       "      <td>2.001436e+06</td>\n",
       "      <td>2.0</td>\n",
       "      <td>1436.500000</td>\n",
       "      <td>2001.0</td>\n",
       "      <td>195505.500000</td>\n",
       "      <td>1.0</td>\n",
       "      <td>0.000000</td>\n",
       "      <td>4.000000</td>\n",
       "    </tr>\n",
       "    <tr>\n",
       "      <th>50%</th>\n",
       "      <td>2.002870e+06</td>\n",
       "      <td>2.0</td>\n",
       "      <td>2871.000000</td>\n",
       "      <td>2001.0</td>\n",
       "      <td>213093.000000</td>\n",
       "      <td>1.0</td>\n",
       "      <td>0.000000</td>\n",
       "      <td>6.000000</td>\n",
       "    </tr>\n",
       "    <tr>\n",
       "      <th>75%</th>\n",
       "      <td>2.004304e+06</td>\n",
       "      <td>2.0</td>\n",
       "      <td>4305.500000</td>\n",
       "      <td>2001.0</td>\n",
       "      <td>232824.500000</td>\n",
       "      <td>1.0</td>\n",
       "      <td>0.000000</td>\n",
       "      <td>8.000000</td>\n",
       "    </tr>\n",
       "    <tr>\n",
       "      <th>max</th>\n",
       "      <td>2.005739e+06</td>\n",
       "      <td>2.0</td>\n",
       "      <td>5740.000000</td>\n",
       "      <td>2001.0</td>\n",
       "      <td>277913.000000</td>\n",
       "      <td>1.0</td>\n",
       "      <td>1.000000</td>\n",
       "      <td>10.000000</td>\n",
       "    </tr>\n",
       "  </tbody>\n",
       "</table>\n",
       "</div>"
      ],
      "text/plain": [
       "                _id  actor_id   order_time  product       quantity  client  \\\n",
       "count  5.739000e+03    5739.0  5739.000000   5739.0    5739.000000  5739.0   \n",
       "mean   2.002870e+06       2.0  2871.000000   2001.0  212230.581112     1.0   \n",
       "std    1.656851e+03       0.0  1656.850929      0.0   30025.861185     0.0   \n",
       "min    2.000001e+06       2.0     2.000000   2001.0   10089.000000     1.0   \n",
       "25%    2.001436e+06       2.0  1436.500000   2001.0  195505.500000     1.0   \n",
       "50%    2.002870e+06       2.0  2871.000000   2001.0  213093.000000     1.0   \n",
       "75%    2.004304e+06       2.0  4305.500000   2001.0  232824.500000     1.0   \n",
       "max    2.005739e+06       2.0  5740.000000   2001.0  277913.000000     1.0   \n",
       "\n",
       "            status  close_time  \n",
       "count  5739.000000    2.000000  \n",
       "mean      0.000348    6.000000  \n",
       "std       0.018666    5.656854  \n",
       "min       0.000000    2.000000  \n",
       "25%       0.000000    4.000000  \n",
       "50%       0.000000    6.000000  \n",
       "75%       0.000000    8.000000  \n",
       "max       1.000000   10.000000  "
      ]
     },
     "execution_count": 408,
     "metadata": {},
     "output_type": "execute_result"
    }
   ],
   "source": [
    "get_actor_orders_df(2).describe()"
   ]
  },
  {
   "cell_type": "code",
   "execution_count": 409,
   "id": "c9416568",
   "metadata": {},
   "outputs": [
    {
     "data": {
      "text/html": [
       "<div>\n",
       "<style scoped>\n",
       "    .dataframe tbody tr th:only-of-type {\n",
       "        vertical-align: middle;\n",
       "    }\n",
       "\n",
       "    .dataframe tbody tr th {\n",
       "        vertical-align: top;\n",
       "    }\n",
       "\n",
       "    .dataframe thead th {\n",
       "        text-align: right;\n",
       "    }\n",
       "</style>\n",
       "<table border=\"1\" class=\"dataframe\">\n",
       "  <thead>\n",
       "    <tr style=\"text-align: right;\">\n",
       "      <th></th>\n",
       "      <th>_id</th>\n",
       "      <th>actor_id</th>\n",
       "      <th>order_time</th>\n",
       "      <th>product</th>\n",
       "      <th>quantity</th>\n",
       "      <th>client</th>\n",
       "      <th>status</th>\n",
       "      <th>close_time</th>\n",
       "    </tr>\n",
       "  </thead>\n",
       "  <tbody>\n",
       "    <tr>\n",
       "      <th>count</th>\n",
       "      <td>5.738000e+03</td>\n",
       "      <td>5738.0</td>\n",
       "      <td>5738.000000</td>\n",
       "      <td>5738.0</td>\n",
       "      <td>5.738000e+03</td>\n",
       "      <td>5738.0</td>\n",
       "      <td>5738.000000</td>\n",
       "      <td>1.0</td>\n",
       "    </tr>\n",
       "    <tr>\n",
       "      <th>mean</th>\n",
       "      <td>3.002870e+06</td>\n",
       "      <td>3.0</td>\n",
       "      <td>2871.500000</td>\n",
       "      <td>3001.0</td>\n",
       "      <td>1.710037e+06</td>\n",
       "      <td>2.0</td>\n",
       "      <td>0.000174</td>\n",
       "      <td>3.0</td>\n",
       "    </tr>\n",
       "    <tr>\n",
       "      <th>std</th>\n",
       "      <td>1.656562e+03</td>\n",
       "      <td>0.0</td>\n",
       "      <td>1656.562254</td>\n",
       "      <td>0.0</td>\n",
       "      <td>2.437324e+05</td>\n",
       "      <td>0.0</td>\n",
       "      <td>0.013201</td>\n",
       "      <td>NaN</td>\n",
       "    </tr>\n",
       "    <tr>\n",
       "      <th>min</th>\n",
       "      <td>3.000001e+06</td>\n",
       "      <td>3.0</td>\n",
       "      <td>3.000000</td>\n",
       "      <td>3001.0</td>\n",
       "      <td>1.022900e+04</td>\n",
       "      <td>2.0</td>\n",
       "      <td>0.000000</td>\n",
       "      <td>3.0</td>\n",
       "    </tr>\n",
       "    <tr>\n",
       "      <th>25%</th>\n",
       "      <td>3.001435e+06</td>\n",
       "      <td>3.0</td>\n",
       "      <td>1437.250000</td>\n",
       "      <td>3001.0</td>\n",
       "      <td>1.568397e+06</td>\n",
       "      <td>2.0</td>\n",
       "      <td>0.000000</td>\n",
       "      <td>3.0</td>\n",
       "    </tr>\n",
       "    <tr>\n",
       "      <th>50%</th>\n",
       "      <td>3.002870e+06</td>\n",
       "      <td>3.0</td>\n",
       "      <td>2871.500000</td>\n",
       "      <td>3001.0</td>\n",
       "      <td>1.716713e+06</td>\n",
       "      <td>2.0</td>\n",
       "      <td>0.000000</td>\n",
       "      <td>3.0</td>\n",
       "    </tr>\n",
       "    <tr>\n",
       "      <th>75%</th>\n",
       "      <td>3.004304e+06</td>\n",
       "      <td>3.0</td>\n",
       "      <td>4305.750000</td>\n",
       "      <td>3001.0</td>\n",
       "      <td>1.879584e+06</td>\n",
       "      <td>2.0</td>\n",
       "      <td>0.000000</td>\n",
       "      <td>3.0</td>\n",
       "    </tr>\n",
       "    <tr>\n",
       "      <th>max</th>\n",
       "      <td>3.005738e+06</td>\n",
       "      <td>3.0</td>\n",
       "      <td>5740.000000</td>\n",
       "      <td>3001.0</td>\n",
       "      <td>2.210186e+06</td>\n",
       "      <td>2.0</td>\n",
       "      <td>1.000000</td>\n",
       "      <td>3.0</td>\n",
       "    </tr>\n",
       "  </tbody>\n",
       "</table>\n",
       "</div>"
      ],
      "text/plain": [
       "                _id  actor_id   order_time  product      quantity  client  \\\n",
       "count  5.738000e+03    5738.0  5738.000000   5738.0  5.738000e+03  5738.0   \n",
       "mean   3.002870e+06       3.0  2871.500000   3001.0  1.710037e+06     2.0   \n",
       "std    1.656562e+03       0.0  1656.562254      0.0  2.437324e+05     0.0   \n",
       "min    3.000001e+06       3.0     3.000000   3001.0  1.022900e+04     2.0   \n",
       "25%    3.001435e+06       3.0  1437.250000   3001.0  1.568397e+06     2.0   \n",
       "50%    3.002870e+06       3.0  2871.500000   3001.0  1.716713e+06     2.0   \n",
       "75%    3.004304e+06       3.0  4305.750000   3001.0  1.879584e+06     2.0   \n",
       "max    3.005738e+06       3.0  5740.000000   3001.0  2.210186e+06     2.0   \n",
       "\n",
       "            status  close_time  \n",
       "count  5738.000000         1.0  \n",
       "mean      0.000174         3.0  \n",
       "std       0.013201         NaN  \n",
       "min       0.000000         3.0  \n",
       "25%       0.000000         3.0  \n",
       "50%       0.000000         3.0  \n",
       "75%       0.000000         3.0  \n",
       "max       1.000000         3.0  "
      ]
     },
     "execution_count": 409,
     "metadata": {},
     "output_type": "execute_result"
    }
   ],
   "source": [
    "get_actor_orders_df(3).describe()"
   ]
  },
  {
   "cell_type": "code",
   "execution_count": 410,
   "id": "0e9d6e6d",
   "metadata": {},
   "outputs": [
    {
     "data": {
      "text/html": [
       "<div>\n",
       "<style scoped>\n",
       "    .dataframe tbody tr th:only-of-type {\n",
       "        vertical-align: middle;\n",
       "    }\n",
       "\n",
       "    .dataframe tbody tr th {\n",
       "        vertical-align: top;\n",
       "    }\n",
       "\n",
       "    .dataframe thead th {\n",
       "        text-align: right;\n",
       "    }\n",
       "</style>\n",
       "<table border=\"1\" class=\"dataframe\">\n",
       "  <thead>\n",
       "    <tr style=\"text-align: right;\">\n",
       "      <th></th>\n",
       "      <th>_id</th>\n",
       "      <th>actor_id</th>\n",
       "      <th>order_time</th>\n",
       "      <th>product</th>\n",
       "      <th>quantity</th>\n",
       "      <th>client</th>\n",
       "      <th>status</th>\n",
       "      <th>close_time</th>\n",
       "    </tr>\n",
       "  </thead>\n",
       "  <tbody>\n",
       "    <tr>\n",
       "      <th>count</th>\n",
       "      <td>5.737000e+03</td>\n",
       "      <td>5737.0</td>\n",
       "      <td>5737.000000</td>\n",
       "      <td>5737.0</td>\n",
       "      <td>5.737000e+03</td>\n",
       "      <td>5737.0</td>\n",
       "      <td>5737.000000</td>\n",
       "      <td>1.0</td>\n",
       "    </tr>\n",
       "    <tr>\n",
       "      <th>mean</th>\n",
       "      <td>4.002869e+06</td>\n",
       "      <td>4.0</td>\n",
       "      <td>2872.000000</td>\n",
       "      <td>4001.0</td>\n",
       "      <td>2.234785e+07</td>\n",
       "      <td>3.0</td>\n",
       "      <td>0.000174</td>\n",
       "      <td>4.0</td>\n",
       "    </tr>\n",
       "    <tr>\n",
       "      <th>std</th>\n",
       "      <td>1.656274e+03</td>\n",
       "      <td>0.0</td>\n",
       "      <td>1656.273578</td>\n",
       "      <td>0.0</td>\n",
       "      <td>3.247834e+06</td>\n",
       "      <td>0.0</td>\n",
       "      <td>0.013203</td>\n",
       "      <td>NaN</td>\n",
       "    </tr>\n",
       "    <tr>\n",
       "      <th>min</th>\n",
       "      <td>4.000001e+06</td>\n",
       "      <td>4.0</td>\n",
       "      <td>4.000000</td>\n",
       "      <td>4001.0</td>\n",
       "      <td>1.022900e+04</td>\n",
       "      <td>3.0</td>\n",
       "      <td>0.000000</td>\n",
       "      <td>4.0</td>\n",
       "    </tr>\n",
       "    <tr>\n",
       "      <th>25%</th>\n",
       "      <td>4.001435e+06</td>\n",
       "      <td>4.0</td>\n",
       "      <td>1438.000000</td>\n",
       "      <td>4001.0</td>\n",
       "      <td>2.046450e+07</td>\n",
       "      <td>3.0</td>\n",
       "      <td>0.000000</td>\n",
       "      <td>4.0</td>\n",
       "    </tr>\n",
       "    <tr>\n",
       "      <th>50%</th>\n",
       "      <td>4.002869e+06</td>\n",
       "      <td>4.0</td>\n",
       "      <td>2872.000000</td>\n",
       "      <td>4001.0</td>\n",
       "      <td>2.237418e+07</td>\n",
       "      <td>3.0</td>\n",
       "      <td>0.000000</td>\n",
       "      <td>4.0</td>\n",
       "    </tr>\n",
       "    <tr>\n",
       "      <th>75%</th>\n",
       "      <td>4.004303e+06</td>\n",
       "      <td>4.0</td>\n",
       "      <td>4306.000000</td>\n",
       "      <td>4001.0</td>\n",
       "      <td>2.468158e+07</td>\n",
       "      <td>3.0</td>\n",
       "      <td>0.000000</td>\n",
       "      <td>4.0</td>\n",
       "    </tr>\n",
       "    <tr>\n",
       "      <th>max</th>\n",
       "      <td>4.005737e+06</td>\n",
       "      <td>4.0</td>\n",
       "      <td>5740.000000</td>\n",
       "      <td>4001.0</td>\n",
       "      <td>2.868398e+07</td>\n",
       "      <td>3.0</td>\n",
       "      <td>1.000000</td>\n",
       "      <td>4.0</td>\n",
       "    </tr>\n",
       "  </tbody>\n",
       "</table>\n",
       "</div>"
      ],
      "text/plain": [
       "                _id  actor_id   order_time  product      quantity  client  \\\n",
       "count  5.737000e+03    5737.0  5737.000000   5737.0  5.737000e+03  5737.0   \n",
       "mean   4.002869e+06       4.0  2872.000000   4001.0  2.234785e+07     3.0   \n",
       "std    1.656274e+03       0.0  1656.273578      0.0  3.247834e+06     0.0   \n",
       "min    4.000001e+06       4.0     4.000000   4001.0  1.022900e+04     3.0   \n",
       "25%    4.001435e+06       4.0  1438.000000   4001.0  2.046450e+07     3.0   \n",
       "50%    4.002869e+06       4.0  2872.000000   4001.0  2.237418e+07     3.0   \n",
       "75%    4.004303e+06       4.0  4306.000000   4001.0  2.468158e+07     3.0   \n",
       "max    4.005737e+06       4.0  5740.000000   4001.0  2.868398e+07     3.0   \n",
       "\n",
       "            status  close_time  \n",
       "count  5737.000000         1.0  \n",
       "mean      0.000174         4.0  \n",
       "std       0.013203         NaN  \n",
       "min       0.000000         4.0  \n",
       "25%       0.000000         4.0  \n",
       "50%       0.000000         4.0  \n",
       "75%       0.000000         4.0  \n",
       "max       1.000000         4.0  "
      ]
     },
     "execution_count": 410,
     "metadata": {},
     "output_type": "execute_result"
    }
   ],
   "source": [
    "get_actor_orders_df(4).describe()"
   ]
  },
  {
   "cell_type": "code",
   "execution_count": 411,
   "id": "564f5376",
   "metadata": {},
   "outputs": [
    {
     "data": {
      "text/html": [
       "<div>\n",
       "<style scoped>\n",
       "    .dataframe tbody tr th:only-of-type {\n",
       "        vertical-align: middle;\n",
       "    }\n",
       "\n",
       "    .dataframe tbody tr th {\n",
       "        vertical-align: top;\n",
       "    }\n",
       "\n",
       "    .dataframe thead th {\n",
       "        text-align: right;\n",
       "    }\n",
       "</style>\n",
       "<table border=\"1\" class=\"dataframe\">\n",
       "  <thead>\n",
       "    <tr style=\"text-align: right;\">\n",
       "      <th></th>\n",
       "      <th>_id</th>\n",
       "      <th>actor_id</th>\n",
       "      <th>order_time</th>\n",
       "      <th>product</th>\n",
       "      <th>quantity</th>\n",
       "      <th>client</th>\n",
       "      <th>status</th>\n",
       "      <th>close_time</th>\n",
       "    </tr>\n",
       "  </thead>\n",
       "  <tbody>\n",
       "    <tr>\n",
       "      <th>count</th>\n",
       "      <td>5.736000e+03</td>\n",
       "      <td>5736.0</td>\n",
       "      <td>5736.000000</td>\n",
       "      <td>5736.0</td>\n",
       "      <td>5.736000e+03</td>\n",
       "      <td>5736.0</td>\n",
       "      <td>5736.000000</td>\n",
       "      <td>70.000000</td>\n",
       "    </tr>\n",
       "    <tr>\n",
       "      <th>mean</th>\n",
       "      <td>5.002868e+06</td>\n",
       "      <td>5.0</td>\n",
       "      <td>2872.500000</td>\n",
       "      <td>5001.0</td>\n",
       "      <td>4.145584e+08</td>\n",
       "      <td>4.0</td>\n",
       "      <td>0.012204</td>\n",
       "      <td>39.500000</td>\n",
       "    </tr>\n",
       "    <tr>\n",
       "      <th>std</th>\n",
       "      <td>1.655985e+03</td>\n",
       "      <td>0.0</td>\n",
       "      <td>1655.984903</td>\n",
       "      <td>0.0</td>\n",
       "      <td>6.451131e+07</td>\n",
       "      <td>0.0</td>\n",
       "      <td>0.109803</td>\n",
       "      <td>20.351085</td>\n",
       "    </tr>\n",
       "    <tr>\n",
       "      <th>min</th>\n",
       "      <td>5.000001e+06</td>\n",
       "      <td>5.0</td>\n",
       "      <td>5.000000</td>\n",
       "      <td>5001.0</td>\n",
       "      <td>1.022900e+04</td>\n",
       "      <td>4.0</td>\n",
       "      <td>0.000000</td>\n",
       "      <td>5.000000</td>\n",
       "    </tr>\n",
       "    <tr>\n",
       "      <th>25%</th>\n",
       "      <td>5.001435e+06</td>\n",
       "      <td>5.0</td>\n",
       "      <td>1438.750000</td>\n",
       "      <td>5001.0</td>\n",
       "      <td>3.807500e+08</td>\n",
       "      <td>4.0</td>\n",
       "      <td>0.000000</td>\n",
       "      <td>22.250000</td>\n",
       "    </tr>\n",
       "    <tr>\n",
       "      <th>50%</th>\n",
       "      <td>5.002868e+06</td>\n",
       "      <td>5.0</td>\n",
       "      <td>2872.500000</td>\n",
       "      <td>5001.0</td>\n",
       "      <td>4.166493e+08</td>\n",
       "      <td>4.0</td>\n",
       "      <td>0.000000</td>\n",
       "      <td>39.500000</td>\n",
       "    </tr>\n",
       "    <tr>\n",
       "      <th>75%</th>\n",
       "      <td>5.004302e+06</td>\n",
       "      <td>5.0</td>\n",
       "      <td>4306.250000</td>\n",
       "      <td>5001.0</td>\n",
       "      <td>4.605554e+08</td>\n",
       "      <td>4.0</td>\n",
       "      <td>0.000000</td>\n",
       "      <td>56.750000</td>\n",
       "    </tr>\n",
       "    <tr>\n",
       "      <th>max</th>\n",
       "      <td>5.005736e+06</td>\n",
       "      <td>5.0</td>\n",
       "      <td>5740.000000</td>\n",
       "      <td>5001.0</td>\n",
       "      <td>5.336743e+08</td>\n",
       "      <td>4.0</td>\n",
       "      <td>1.000000</td>\n",
       "      <td>74.000000</td>\n",
       "    </tr>\n",
       "  </tbody>\n",
       "</table>\n",
       "</div>"
      ],
      "text/plain": [
       "                _id  actor_id   order_time  product      quantity  client  \\\n",
       "count  5.736000e+03    5736.0  5736.000000   5736.0  5.736000e+03  5736.0   \n",
       "mean   5.002868e+06       5.0  2872.500000   5001.0  4.145584e+08     4.0   \n",
       "std    1.655985e+03       0.0  1655.984903      0.0  6.451131e+07     0.0   \n",
       "min    5.000001e+06       5.0     5.000000   5001.0  1.022900e+04     4.0   \n",
       "25%    5.001435e+06       5.0  1438.750000   5001.0  3.807500e+08     4.0   \n",
       "50%    5.002868e+06       5.0  2872.500000   5001.0  4.166493e+08     4.0   \n",
       "75%    5.004302e+06       5.0  4306.250000   5001.0  4.605554e+08     4.0   \n",
       "max    5.005736e+06       5.0  5740.000000   5001.0  5.336743e+08     4.0   \n",
       "\n",
       "            status  close_time  \n",
       "count  5736.000000   70.000000  \n",
       "mean      0.012204   39.500000  \n",
       "std       0.109803   20.351085  \n",
       "min       0.000000    5.000000  \n",
       "25%       0.000000   22.250000  \n",
       "50%       0.000000   39.500000  \n",
       "75%       0.000000   56.750000  \n",
       "max       1.000000   74.000000  "
      ]
     },
     "execution_count": 411,
     "metadata": {},
     "output_type": "execute_result"
    }
   ],
   "source": [
    "get_actor_orders_df(5).describe()"
   ]
  },
  {
   "cell_type": "code",
   "execution_count": 412,
   "id": "8c74d295",
   "metadata": {},
   "outputs": [
    {
     "data": {
      "text/plain": [
       "414558446.58525103"
      ]
     },
     "execution_count": 412,
     "metadata": {},
     "output_type": "execute_result"
    }
   ],
   "source": [
    "get_actor_orders_df(5)[\"quantity\"].mean()"
   ]
  },
  {
   "cell_type": "code",
   "execution_count": 413,
   "id": "fefb9129",
   "metadata": {},
   "outputs": [
    {
     "name": "stdout",
     "output_type": "stream",
     "text": [
      "Orders Analisys\n",
      "Actor 1 μ 12049.06 σ 1599.49\n",
      "Actor 2 μ 212230.58 σ 30025.86\n",
      "Actor 3 μ 1710036.57 σ 243732.42\n",
      "Actor 4 μ 22347848.61 σ 3247833.65\n",
      "Actor 5 μ 414558446.59 σ 64511312.62\n"
     ]
    }
   ],
   "source": [
    "print(\"Orders Analisys\")\n",
    "for actor in range(1,6):\n",
    "    print(\"Actor\",actor,\"μ\", format( get_actor_orders_df(actor)[\"quantity\"].mean(),\".2f\"),\n",
    "          \"σ\",format(get_actor_orders_df(actor)[\"quantity\"].std() ,\".2f\"))"
   ]
  },
  {
   "cell_type": "code",
   "execution_count": null,
   "id": "a0bdf307",
   "metadata": {},
   "outputs": [],
   "source": []
  },
  {
   "cell_type": "code",
   "execution_count": 414,
   "id": "0964927f",
   "metadata": {},
   "outputs": [
    {
     "data": {
      "text/plain": [
       "<AxesSubplot:>"
      ]
     },
     "execution_count": 414,
     "metadata": {},
     "output_type": "execute_result"
    },
    {
     "data": {
      "image/png": "[encoded data removed]",
      "text/plain": [
       "<Figure size 432x288 with 1 Axes>"
      ]
     },
     "metadata": {
      "needs_background": "light"
     },
     "output_type": "display_data"
    }
   ],
   "source": [
    "get_actor_orders_df(1)[\"quantity\"].plot()\n"
   ]
  },
  {
   "cell_type": "code",
   "execution_count": 415,
   "id": "b3da545d",
   "metadata": {},
   "outputs": [
    {
     "data": {
      "text/plain": [
       "<AxesSubplot:>"
      ]
     },
     "execution_count": 415,
     "metadata": {},
     "output_type": "execute_result"
    },
    {
     "data": {
      "image/png": "[encoded data removed]",
      "text/plain": [
       "<Figure size 432x288 with 1 Axes>"
      ]
     },
     "metadata": {
      "needs_background": "light"
     },
     "output_type": "display_data"
    }
   ],
   "source": [
    "get_actor_orders_df(2)[\"quantity\"].plot()\n"
   ]
  },
  {
   "cell_type": "code",
   "execution_count": 416,
   "id": "7f424af1",
   "metadata": {},
   "outputs": [
    {
     "data": {
      "text/plain": [
       "<AxesSubplot:>"
      ]
     },
     "execution_count": 416,
     "metadata": {},
     "output_type": "execute_result"
    },
    {
     "data": {
      "image/png": "[encoded data removed]",
      "text/plain": [
       "<Figure size 432x288 with 1 Axes>"
      ]
     },
     "metadata": {
      "needs_background": "light"
     },
     "output_type": "display_data"
    }
   ],
   "source": [
    "get_actor_orders_df(3)[\"quantity\"].plot()\n"
   ]
  },
  {
   "cell_type": "code",
   "execution_count": 417,
   "id": "1b9544bb",
   "metadata": {},
   "outputs": [
    {
     "data": {
      "text/plain": [
       "<AxesSubplot:>"
      ]
     },
     "execution_count": 417,
     "metadata": {},
     "output_type": "execute_result"
    },
    {
     "data": {
      "image/png": "[encoded data removed]",
      "text/plain": [
       "<Figure size 432x288 with 1 Axes>"
      ]
     },
     "metadata": {
      "needs_background": "light"
     },
     "output_type": "display_data"
    }
   ],
   "source": [
    "get_actor_orders_df(4)[\"quantity\"].plot()\n"
   ]
  },
  {
   "cell_type": "code",
   "execution_count": 418,
   "id": "5b73bb8c",
   "metadata": {},
   "outputs": [
    {
     "data": {
      "text/plain": [
       "<AxesSubplot:>"
      ]
     },
     "execution_count": 418,
     "metadata": {},
     "output_type": "execute_result"
    },
    {
     "data": {
      "image/png": "[encoded data removed]",
      "text/plain": [
       "<Figure size 432x288 with 1 Axes>"
      ]
     },
     "metadata": {
      "needs_background": "light"
     },
     "output_type": "display_data"
    }
   ],
   "source": [
    "get_actor_orders_df(5)[\"quantity\"].plot()\n"
   ]
  },
  {
   "cell_type": "code",
   "execution_count": null,
   "id": "18303fff",
   "metadata": {},
   "outputs": [],
   "source": []
  },
  {
   "cell_type": "code",
   "execution_count": null,
   "id": "9bafad1b",
   "metadata": {},
   "outputs": [],
   "source": []
  },
  {
   "cell_type": "code",
   "execution_count": null,
   "id": "2a62f2eb",
   "metadata": {},
   "outputs": [],
   "source": []
  }
 ],
 "metadata": {
  "kernelspec": {
   "display_name": "Python 3",
   "language": "python",
   "name": "python3"
  },
  "language_info": {
   "codemirror_mode": {
    "name": "ipython",
    "version": 3
   },
   "file_extension": ".py",
   "mimetype": "text/x-python",
   "name": "python",
   "nbconvert_exporter": "python",
   "pygments_lexer": "ipython3",
   "version": "3.9.10"
  }
 },
 "nbformat": 4,
 "nbformat_minor": 5
}
