{
 "cells": [
  {
   "cell_type": "code",
   "execution_count": 501,
   "id": "8c0df87c",
   "metadata": {},
   "outputs": [],
   "source": [
    "%run db_connection.ipynb\n",
    "\n",
    "mongo = db_connection()\n",
    "import pandas as pd\n",
    "import seaborn as sns\n",
    "import matplotlib.pyplot as plt\n",
    "import numpy as np\n",
    "plt.rcParams['figure.figsize'] = [15, 10]\n"
   ]
  },
  {
   "cell_type": "code",
   "execution_count": 502,
   "id": "1b7bf491",
   "metadata": {},
   "outputs": [
    {
     "data": {
      "text/html": [
       "<div>\n",
       "<style scoped>\n",
       "    .dataframe tbody tr th:only-of-type {\n",
       "        vertical-align: middle;\n",
       "    }\n",
       "\n",
       "    .dataframe tbody tr th {\n",
       "        vertical-align: top;\n",
       "    }\n",
       "\n",
       "    .dataframe thead th {\n",
       "        text-align: right;\n",
       "    }\n",
       "</style>\n",
       "<table border=\"1\" class=\"dataframe\">\n",
       "  <thead>\n",
       "    <tr style=\"text-align: right;\">\n",
       "      <th></th>\n",
       "      <th>_id</th>\n",
       "      <th>deliver_day</th>\n",
       "      <th>order_id</th>\n",
       "      <th>order_criation_day</th>\n",
       "      <th>sending_day</th>\n",
       "      <th>receiver</th>\n",
       "      <th>sender</th>\n",
       "      <th>product</th>\n",
       "      <th>quantity</th>\n",
       "      <th>transit_time</th>\n",
       "      <th>lead_time</th>\n",
       "      <th>theoretical_lead</th>\n",
       "      <th>transaction_id</th>\n",
       "      <th>delivered</th>\n",
       "      <th>update_day</th>\n",
       "    </tr>\n",
       "  </thead>\n",
       "  <tbody>\n",
       "    <tr>\n",
       "      <th>0</th>\n",
       "      <td>1</td>\n",
       "      <td>10</td>\n",
       "      <td>1000001</td>\n",
       "      <td>1</td>\n",
       "      <td>1</td>\n",
       "      <td>0</td>\n",
       "      <td>1</td>\n",
       "      <td>1001</td>\n",
       "      <td>10090</td>\n",
       "      <td>None</td>\n",
       "      <td>9</td>\n",
       "      <td>9</td>\n",
       "      <td>1</td>\n",
       "      <td>1</td>\n",
       "      <td>10</td>\n",
       "    </tr>\n",
       "    <tr>\n",
       "      <th>1</th>\n",
       "      <td>3</td>\n",
       "      <td>10</td>\n",
       "      <td>3000001</td>\n",
       "      <td>3</td>\n",
       "      <td>3</td>\n",
       "      <td>2</td>\n",
       "      <td>3</td>\n",
       "      <td>3001</td>\n",
       "      <td>10368</td>\n",
       "      <td>None</td>\n",
       "      <td>7</td>\n",
       "      <td>7</td>\n",
       "      <td>3</td>\n",
       "      <td>1</td>\n",
       "      <td>10</td>\n",
       "    </tr>\n",
       "    <tr>\n",
       "      <th>2</th>\n",
       "      <td>6</td>\n",
       "      <td>10</td>\n",
       "      <td>5000002</td>\n",
       "      <td>6</td>\n",
       "      <td>6</td>\n",
       "      <td>4</td>\n",
       "      <td>5</td>\n",
       "      <td>5001</td>\n",
       "      <td>10229</td>\n",
       "      <td>None</td>\n",
       "      <td>4</td>\n",
       "      <td>4</td>\n",
       "      <td>6</td>\n",
       "      <td>1</td>\n",
       "      <td>10</td>\n",
       "    </tr>\n",
       "    <tr>\n",
       "      <th>3</th>\n",
       "      <td>5</td>\n",
       "      <td>13</td>\n",
       "      <td>5000001</td>\n",
       "      <td>5</td>\n",
       "      <td>5</td>\n",
       "      <td>4</td>\n",
       "      <td>5</td>\n",
       "      <td>5001</td>\n",
       "      <td>10284</td>\n",
       "      <td>None</td>\n",
       "      <td>8</td>\n",
       "      <td>8</td>\n",
       "      <td>5</td>\n",
       "      <td>1</td>\n",
       "      <td>13</td>\n",
       "    </tr>\n",
       "    <tr>\n",
       "      <th>4</th>\n",
       "      <td>2</td>\n",
       "      <td>15</td>\n",
       "      <td>2000001</td>\n",
       "      <td>2</td>\n",
       "      <td>2</td>\n",
       "      <td>1</td>\n",
       "      <td>2</td>\n",
       "      <td>2001</td>\n",
       "      <td>10305</td>\n",
       "      <td>None</td>\n",
       "      <td>13</td>\n",
       "      <td>13</td>\n",
       "      <td>2</td>\n",
       "      <td>1</td>\n",
       "      <td>15</td>\n",
       "    </tr>\n",
       "    <tr>\n",
       "      <th>5</th>\n",
       "      <td>8</td>\n",
       "      <td>15</td>\n",
       "      <td>5000004</td>\n",
       "      <td>8</td>\n",
       "      <td>8</td>\n",
       "      <td>4</td>\n",
       "      <td>5</td>\n",
       "      <td>5001</td>\n",
       "      <td>10308</td>\n",
       "      <td>None</td>\n",
       "      <td>7</td>\n",
       "      <td>7</td>\n",
       "      <td>8</td>\n",
       "      <td>1</td>\n",
       "      <td>15</td>\n",
       "    </tr>\n",
       "    <tr>\n",
       "      <th>6</th>\n",
       "      <td>4</td>\n",
       "      <td>16</td>\n",
       "      <td>4000001</td>\n",
       "      <td>4</td>\n",
       "      <td>4</td>\n",
       "      <td>3</td>\n",
       "      <td>4</td>\n",
       "      <td>4001</td>\n",
       "      <td>10388</td>\n",
       "      <td>None</td>\n",
       "      <td>12</td>\n",
       "      <td>12</td>\n",
       "      <td>4</td>\n",
       "      <td>1</td>\n",
       "      <td>16</td>\n",
       "    </tr>\n",
       "    <tr>\n",
       "      <th>7</th>\n",
       "      <td>12</td>\n",
       "      <td>16</td>\n",
       "      <td>5000007</td>\n",
       "      <td>11</td>\n",
       "      <td>11</td>\n",
       "      <td>4</td>\n",
       "      <td>5</td>\n",
       "      <td>5001</td>\n",
       "      <td>309553</td>\n",
       "      <td>None</td>\n",
       "      <td>5</td>\n",
       "      <td>5</td>\n",
       "      <td>12</td>\n",
       "      <td>1</td>\n",
       "      <td>16</td>\n",
       "    </tr>\n",
       "    <tr>\n",
       "      <th>8</th>\n",
       "      <td>10</td>\n",
       "      <td>17</td>\n",
       "      <td>2000009</td>\n",
       "      <td>10</td>\n",
       "      <td>10</td>\n",
       "      <td>1</td>\n",
       "      <td>2</td>\n",
       "      <td>2001</td>\n",
       "      <td>10225</td>\n",
       "      <td>None</td>\n",
       "      <td>7</td>\n",
       "      <td>7</td>\n",
       "      <td>10</td>\n",
       "      <td>1</td>\n",
       "      <td>17</td>\n",
       "    </tr>\n",
       "    <tr>\n",
       "      <th>9</th>\n",
       "      <td>7</td>\n",
       "      <td>19</td>\n",
       "      <td>5000003</td>\n",
       "      <td>7</td>\n",
       "      <td>7</td>\n",
       "      <td>4</td>\n",
       "      <td>5</td>\n",
       "      <td>5001</td>\n",
       "      <td>10256</td>\n",
       "      <td>None</td>\n",
       "      <td>12</td>\n",
       "      <td>12</td>\n",
       "      <td>7</td>\n",
       "      <td>1</td>\n",
       "      <td>19</td>\n",
       "    </tr>\n",
       "    <tr>\n",
       "      <th>10</th>\n",
       "      <td>13</td>\n",
       "      <td>21</td>\n",
       "      <td>5000008</td>\n",
       "      <td>12</td>\n",
       "      <td>12</td>\n",
       "      <td>4</td>\n",
       "      <td>5</td>\n",
       "      <td>5001</td>\n",
       "      <td>348057</td>\n",
       "      <td>None</td>\n",
       "      <td>9</td>\n",
       "      <td>9</td>\n",
       "      <td>13</td>\n",
       "      <td>1</td>\n",
       "      <td>21</td>\n",
       "    </tr>\n",
       "    <tr>\n",
       "      <th>11</th>\n",
       "      <td>11</td>\n",
       "      <td>23</td>\n",
       "      <td>5000006</td>\n",
       "      <td>10</td>\n",
       "      <td>10</td>\n",
       "      <td>4</td>\n",
       "      <td>5</td>\n",
       "      <td>5001</td>\n",
       "      <td>235845</td>\n",
       "      <td>None</td>\n",
       "      <td>13</td>\n",
       "      <td>13</td>\n",
       "      <td>11</td>\n",
       "      <td>1</td>\n",
       "      <td>23</td>\n",
       "    </tr>\n",
       "    <tr>\n",
       "      <th>12</th>\n",
       "      <td>9</td>\n",
       "      <td>24</td>\n",
       "      <td>5000005</td>\n",
       "      <td>9</td>\n",
       "      <td>9</td>\n",
       "      <td>4</td>\n",
       "      <td>5</td>\n",
       "      <td>5001</td>\n",
       "      <td>10276</td>\n",
       "      <td>None</td>\n",
       "      <td>15</td>\n",
       "      <td>15</td>\n",
       "      <td>9</td>\n",
       "      <td>1</td>\n",
       "      <td>24</td>\n",
       "    </tr>\n",
       "    <tr>\n",
       "      <th>13</th>\n",
       "      <td>16</td>\n",
       "      <td>26</td>\n",
       "      <td>1000015</td>\n",
       "      <td>15</td>\n",
       "      <td>15</td>\n",
       "      <td>0</td>\n",
       "      <td>1</td>\n",
       "      <td>1001</td>\n",
       "      <td>10097</td>\n",
       "      <td>None</td>\n",
       "      <td>11</td>\n",
       "      <td>11</td>\n",
       "      <td>16</td>\n",
       "      <td>1</td>\n",
       "      <td>26</td>\n",
       "    </tr>\n",
       "    <tr>\n",
       "      <th>14</th>\n",
       "      <td>19</td>\n",
       "      <td>28</td>\n",
       "      <td>1000017</td>\n",
       "      <td>17</td>\n",
       "      <td>17</td>\n",
       "      <td>0</td>\n",
       "      <td>1</td>\n",
       "      <td>1001</td>\n",
       "      <td>10008</td>\n",
       "      <td>None</td>\n",
       "      <td>11</td>\n",
       "      <td>11</td>\n",
       "      <td>19</td>\n",
       "      <td>1</td>\n",
       "      <td>28</td>\n",
       "    </tr>\n",
       "  </tbody>\n",
       "</table>\n",
       "</div>"
      ],
      "text/plain": [
       "    _id  deliver_day  order_id  order_criation_day  sending_day  receiver  \\\n",
       "0     1           10   1000001                   1            1         0   \n",
       "1     3           10   3000001                   3            3         2   \n",
       "2     6           10   5000002                   6            6         4   \n",
       "3     5           13   5000001                   5            5         4   \n",
       "4     2           15   2000001                   2            2         1   \n",
       "5     8           15   5000004                   8            8         4   \n",
       "6     4           16   4000001                   4            4         3   \n",
       "7    12           16   5000007                  11           11         4   \n",
       "8    10           17   2000009                  10           10         1   \n",
       "9     7           19   5000003                   7            7         4   \n",
       "10   13           21   5000008                  12           12         4   \n",
       "11   11           23   5000006                  10           10         4   \n",
       "12    9           24   5000005                   9            9         4   \n",
       "13   16           26   1000015                  15           15         0   \n",
       "14   19           28   1000017                  17           17         0   \n",
       "\n",
       "    sender  product  quantity transit_time  lead_time  theoretical_lead  \\\n",
       "0        1     1001     10090         None          9                 9   \n",
       "1        3     3001     10368         None          7                 7   \n",
       "2        5     5001     10229         None          4                 4   \n",
       "3        5     5001     10284         None          8                 8   \n",
       "4        2     2001     10305         None         13                13   \n",
       "5        5     5001     10308         None          7                 7   \n",
       "6        4     4001     10388         None         12                12   \n",
       "7        5     5001    309553         None          5                 5   \n",
       "8        2     2001     10225         None          7                 7   \n",
       "9        5     5001     10256         None         12                12   \n",
       "10       5     5001    348057         None          9                 9   \n",
       "11       5     5001    235845         None         13                13   \n",
       "12       5     5001     10276         None         15                15   \n",
       "13       1     1001     10097         None         11                11   \n",
       "14       1     1001     10008         None         11                11   \n",
       "\n",
       "    transaction_id  delivered  update_day  \n",
       "0                1          1          10  \n",
       "1                3          1          10  \n",
       "2                6          1          10  \n",
       "3                5          1          13  \n",
       "4                2          1          15  \n",
       "5                8          1          15  \n",
       "6                4          1          16  \n",
       "7               12          1          16  \n",
       "8               10          1          17  \n",
       "9                7          1          19  \n",
       "10              13          1          21  \n",
       "11              11          1          23  \n",
       "12               9          1          24  \n",
       "13              16          1          26  \n",
       "14              19          1          28  "
      ]
     },
     "execution_count": 502,
     "metadata": {},
     "output_type": "execute_result"
    }
   ],
   "source": [
    "transactions = pd.DataFrame(mongo.get_transactions())\n",
    "transactions\n",
    "actors_transactions =pd.DataFrame( transactions[\"closed_transactions\"][0])\n",
    "actors_transactions"
   ]
  },
  {
   "cell_type": "code",
   "execution_count": 503,
   "id": "6e656a13",
   "metadata": {},
   "outputs": [
    {
     "data": {
      "text/html": [
       "<div>\n",
       "<style scoped>\n",
       "    .dataframe tbody tr th:only-of-type {\n",
       "        vertical-align: middle;\n",
       "    }\n",
       "\n",
       "    .dataframe tbody tr th {\n",
       "        vertical-align: top;\n",
       "    }\n",
       "\n",
       "    .dataframe thead tr th {\n",
       "        text-align: left;\n",
       "    }\n",
       "\n",
       "    .dataframe thead tr:last-of-type th {\n",
       "        text-align: right;\n",
       "    }\n",
       "</style>\n",
       "<table border=\"1\" class=\"dataframe\">\n",
       "  <thead>\n",
       "    <tr>\n",
       "      <th></th>\n",
       "      <th colspan=\"8\" halign=\"left\">lead_time</th>\n",
       "    </tr>\n",
       "    <tr>\n",
       "      <th></th>\n",
       "      <th>count</th>\n",
       "      <th>mean</th>\n",
       "      <th>std</th>\n",
       "      <th>min</th>\n",
       "      <th>25%</th>\n",
       "      <th>50%</th>\n",
       "      <th>75%</th>\n",
       "      <th>max</th>\n",
       "    </tr>\n",
       "    <tr>\n",
       "      <th>receiver</th>\n",
       "      <th></th>\n",
       "      <th></th>\n",
       "      <th></th>\n",
       "      <th></th>\n",
       "      <th></th>\n",
       "      <th></th>\n",
       "      <th></th>\n",
       "      <th></th>\n",
       "    </tr>\n",
       "  </thead>\n",
       "  <tbody>\n",
       "    <tr>\n",
       "      <th>0</th>\n",
       "      <td>3.0</td>\n",
       "      <td>10.333333</td>\n",
       "      <td>1.154701</td>\n",
       "      <td>9.0</td>\n",
       "      <td>10.0</td>\n",
       "      <td>11.0</td>\n",
       "      <td>11.00</td>\n",
       "      <td>11.0</td>\n",
       "    </tr>\n",
       "    <tr>\n",
       "      <th>1</th>\n",
       "      <td>2.0</td>\n",
       "      <td>10.000000</td>\n",
       "      <td>4.242641</td>\n",
       "      <td>7.0</td>\n",
       "      <td>8.5</td>\n",
       "      <td>10.0</td>\n",
       "      <td>11.50</td>\n",
       "      <td>13.0</td>\n",
       "    </tr>\n",
       "    <tr>\n",
       "      <th>2</th>\n",
       "      <td>1.0</td>\n",
       "      <td>7.000000</td>\n",
       "      <td>NaN</td>\n",
       "      <td>7.0</td>\n",
       "      <td>7.0</td>\n",
       "      <td>7.0</td>\n",
       "      <td>7.00</td>\n",
       "      <td>7.0</td>\n",
       "    </tr>\n",
       "    <tr>\n",
       "      <th>3</th>\n",
       "      <td>1.0</td>\n",
       "      <td>12.000000</td>\n",
       "      <td>NaN</td>\n",
       "      <td>12.0</td>\n",
       "      <td>12.0</td>\n",
       "      <td>12.0</td>\n",
       "      <td>12.00</td>\n",
       "      <td>12.0</td>\n",
       "    </tr>\n",
       "    <tr>\n",
       "      <th>4</th>\n",
       "      <td>8.0</td>\n",
       "      <td>9.125000</td>\n",
       "      <td>3.907411</td>\n",
       "      <td>4.0</td>\n",
       "      <td>6.5</td>\n",
       "      <td>8.5</td>\n",
       "      <td>12.25</td>\n",
       "      <td>15.0</td>\n",
       "    </tr>\n",
       "  </tbody>\n",
       "</table>\n",
       "</div>"
      ],
      "text/plain": [
       "         lead_time                                                    \n",
       "             count       mean       std   min   25%   50%    75%   max\n",
       "receiver                                                              \n",
       "0              3.0  10.333333  1.154701   9.0  10.0  11.0  11.00  11.0\n",
       "1              2.0  10.000000  4.242641   7.0   8.5  10.0  11.50  13.0\n",
       "2              1.0   7.000000       NaN   7.0   7.0   7.0   7.00   7.0\n",
       "3              1.0  12.000000       NaN  12.0  12.0  12.0  12.00  12.0\n",
       "4              8.0   9.125000  3.907411   4.0   6.5   8.5  12.25  15.0"
      ]
     },
     "execution_count": 503,
     "metadata": {},
     "output_type": "execute_result"
    }
   ],
   "source": [
    "new=actors_transactions[[\"lead_time\",\"receiver\" ]]\n",
    "\n",
    "new.groupby(\"receiver\").describe()"
   ]
  },
  {
   "cell_type": "code",
   "execution_count": 504,
   "id": "a0e69852",
   "metadata": {},
   "outputs": [],
   "source": [
    "df0=actors_transactions.loc[actors_transactions['receiver'] == 0]\n",
    "df1=actors_transactions.loc[actors_transactions['receiver'] == 1]\n",
    "df2=actors_transactions.loc[actors_transactions['receiver'] == 2]\n",
    "df3=actors_transactions.loc[actors_transactions['receiver'] == 3]\n",
    "df4=actors_transactions.loc[actors_transactions['receiver'] == 4]\n"
   ]
  },
  {
   "cell_type": "code",
   "execution_count": 505,
   "id": "4b615b57",
   "metadata": {},
   "outputs": [
    {
     "name": "stdout",
     "output_type": "stream",
     "text": [
      "0-> 10.33 1.15\n",
      "1-> 10.00 4.24\n",
      "2-> 7.00 nan\n",
      "3-> 12.00 nan\n",
      "4-> 9.12 3.91\n"
     ]
    }
   ],
   "source": [
    "print( \"0->\",format( df0[\"lead_time\"].mean(), \".2f\"), format(  df0[\"lead_time\"].std(), \".2f\"))\n",
    "print( \"1->\",format( df1[\"lead_time\"].mean(), \".2f\"), format(  df1[\"lead_time\"].std(), \".2f\"))\n",
    "print( \"2->\",format( df2[\"lead_time\"].mean(), \".2f\"), format(  df2[\"lead_time\"].std(), \".2f\"))\n",
    "print( \"3->\",format( df3[\"lead_time\"].mean(), \".2f\"), format(  df3[\"lead_time\"].std(), \".2f\"))\n",
    "print( \"4->\",format( df4[\"lead_time\"].mean(), \".2f\"), format(  df4[\"lead_time\"].std(), \".2f\"))\n"
   ]
  },
  {
   "cell_type": "code",
   "execution_count": 506,
   "id": "955e2ec6",
   "metadata": {},
   "outputs": [
    {
     "name": "stdout",
     "output_type": "stream",
     "text": [
      "\tTransaction\n",
      "count     3.000000\n",
      "mean     10.333333\n",
      "std       1.154701\n",
      "min       9.000000\n",
      "25%      10.000000\n",
      "50%      11.000000\n",
      "75%      11.000000\n",
      "max      11.000000\n",
      "Name: lead_time, dtype: float64 \n",
      "\n",
      " count     2.000000\n",
      "mean     10.000000\n",
      "std       4.242641\n",
      "min       7.000000\n",
      "25%       8.500000\n",
      "50%      10.000000\n",
      "75%      11.500000\n",
      "max      13.000000\n",
      "Name: lead_time, dtype: float64 \n",
      "\n",
      " count    1.0\n",
      "mean     7.0\n",
      "std      NaN\n",
      "min      7.0\n",
      "25%      7.0\n",
      "50%      7.0\n",
      "75%      7.0\n",
      "max      7.0\n",
      "Name: lead_time, dtype: float64 \n",
      "\n",
      " count     1.0\n",
      "mean     12.0\n",
      "std       NaN\n",
      "min      12.0\n",
      "25%      12.0\n",
      "50%      12.0\n",
      "75%      12.0\n",
      "max      12.0\n",
      "Name: lead_time, dtype: float64 \n",
      "\n",
      " count     8.000000\n",
      "mean      9.125000\n",
      "std       3.907411\n",
      "min       4.000000\n",
      "25%       6.500000\n",
      "50%       8.500000\n",
      "75%      12.250000\n",
      "max      15.000000\n",
      "Name: lead_time, dtype: float64 \n",
      "\n",
      "\n"
     ]
    }
   ],
   "source": [
    "print(\"\\tTransaction\")\n",
    "print(df0[\"lead_time\"].describe(),\"\\n\\n\",\n",
    "      df1[\"lead_time\"].describe(),\"\\n\\n\",\n",
    "      df2[\"lead_time\"].describe(),\"\\n\\n\",\n",
    "      df3[\"lead_time\"].describe(),\"\\n\\n\",\n",
    "      df4[\"lead_time\"].describe(),\"\\n\\n\",\n",
    "     )"
   ]
  },
  {
   "cell_type": "code",
   "execution_count": 507,
   "id": "4f1b448e",
   "metadata": {},
   "outputs": [
    {
     "data": {
      "text/plain": [
       "[<matplotlib.lines.Line2D at 0x245e1bb4d30>]"
      ]
     },
     "execution_count": 507,
     "metadata": {},
     "output_type": "execute_result"
    },
    {
     "data": {
      "image/png": "[encoded data removed]",
      "text/plain": [
       "<Figure size 1080x720 with 1 Axes>"
      ]
     },
     "metadata": {
      "needs_background": "light"
     },
     "output_type": "display_data"
    }
   ],
   "source": [
    "plt.plot( \"deliver_day\", \"lead_time\", \"\", data=df0, marker='o', markersize=0.7)\n"
   ]
  },
  {
   "cell_type": "code",
   "execution_count": 508,
   "id": "f404b6e0",
   "metadata": {},
   "outputs": [
    {
     "data": {
      "text/plain": [
       "[<matplotlib.lines.Line2D at 0x245e1c22ac0>]"
      ]
     },
     "execution_count": 508,
     "metadata": {},
     "output_type": "execute_result"
    },
    {
     "data": {
      "image/png": "[encoded data removed]",
      "text/plain": [
       "<Figure size 1080x720 with 1 Axes>"
      ]
     },
     "metadata": {
      "needs_background": "light"
     },
     "output_type": "display_data"
    }
   ],
   "source": [
    "plt.plot( \"deliver_day\", \"lead_time\", \"\", data=df1, marker='o', markersize=0.7)\n"
   ]
  },
  {
   "cell_type": "code",
   "execution_count": 509,
   "id": "e5c3989b",
   "metadata": {},
   "outputs": [
    {
     "data": {
      "text/plain": [
       "[<matplotlib.lines.Line2D at 0x245e1c88d30>]"
      ]
     },
     "execution_count": 509,
     "metadata": {},
     "output_type": "execute_result"
    },
    {
     "data": {
      "image/png": "[encoded data removed]",
      "text/plain": [
       "<Figure size 1080x720 with 1 Axes>"
      ]
     },
     "metadata": {
      "needs_background": "light"
     },
     "output_type": "display_data"
    }
   ],
   "source": [
    "plt.plot( \"deliver_day\", \"lead_time\", \"\", data=df2, marker='o', markersize=0.7)\n"
   ]
  },
  {
   "cell_type": "code",
   "execution_count": 510,
   "id": "19b4b110",
   "metadata": {},
   "outputs": [
    {
     "data": {
      "text/plain": [
       "[<matplotlib.lines.Line2D at 0x245d7f621f0>]"
      ]
     },
     "execution_count": 510,
     "metadata": {},
     "output_type": "execute_result"
    },
    {
     "data": {
      "image/png": "[encoded data removed]",
      "text/plain": [
       "<Figure size 1080x720 with 1 Axes>"
      ]
     },
     "metadata": {
      "needs_background": "light"
     },
     "output_type": "display_data"
    }
   ],
   "source": [
    "plt.plot( \"deliver_day\", \"lead_time\", \"\", data=df3, marker='o', markersize=0.7)"
   ]
  },
  {
   "cell_type": "code",
   "execution_count": 511,
   "id": "7136903f",
   "metadata": {},
   "outputs": [
    {
     "data": {
      "text/plain": [
       "[<matplotlib.lines.Line2D at 0x245d1fca8e0>]"
      ]
     },
     "execution_count": 511,
     "metadata": {},
     "output_type": "execute_result"
    },
    {
     "data": {
      "image/png": "[encoded data removed]",
      "text/plain": [
       "<Figure size 1080x720 with 1 Axes>"
      ]
     },
     "metadata": {
      "needs_background": "light"
     },
     "output_type": "display_data"
    }
   ],
   "source": [
    "plt.plot( \"deliver_day\", \"lead_time\", \"\", data=df4, marker='.', markersize=0.7)"
   ]
  },
  {
   "cell_type": "code",
   "execution_count": null,
   "id": "0abdf1ca",
   "metadata": {},
   "outputs": [],
   "source": []
  }
 ],
 "metadata": {
  "kernelspec": {
   "display_name": "Python 3",
   "language": "python",
   "name": "python3"
  },
  "language_info": {
   "codemirror_mode": {
    "name": "ipython",
    "version": 3
   },
   "file_extension": ".py",
   "mimetype": "text/x-python",
   "name": "python",
   "nbconvert_exporter": "python",
   "pygments_lexer": "ipython3",
   "version": "3.9.10"
  }
 },
 "nbformat": 4,
 "nbformat_minor": 5
}
