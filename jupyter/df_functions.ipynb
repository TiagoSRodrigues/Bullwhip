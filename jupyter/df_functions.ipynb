{
 "cells": [
  {
   "cell_type": "code",
   "execution_count": 1,
   "id": "78bec202",
   "metadata": {},
   "outputs": [],
   "source": [
    "%run db_connection.ipynb\n"
   ]
  },
  {
   "cell_type": "code",
   "execution_count": null,
   "id": "5ccac453",
   "metadata": {},
   "outputs": [],
   "source": [
    "import mandas as pd\n",
    "def get_inventory_snapshot():\n",
    "\n",
    "    data_array=mongo.get_inventory_snapshot()[\"inventory_snapshot\"]\n",
    "\n",
    "    inventory_stapshot=[]\n",
    "    for data_row in data_array:\n",
    "\n",
    "\n",
    "        for actor_id, actor_inv in data_row[\"inventory\"].items():\n",
    "            actor_dic={}\n",
    "\n",
    "            for actor_row in actor_inv:\n",
    "                actor_dic[\"day\"]=int(data_row[\"_id\"])\n",
    "                actor_dic[\"actor\"]=int(actor_id)\n",
    "                actor_dic[\"product\"]=int(actor_inv[actor_row][\"id\"])\n",
    "                actor_dic[\"in_stock\"]=int(actor_inv[actor_row][\"in_stock\"])\n",
    "                try:\n",
    "                    actor_dic[\"safety_stock\"]=int(actor_inv[actor_row][\"safety_stock\"])\n",
    "                except:\n",
    "                    continue\n",
    "            inventory_stapshot.append(actor_dic)\n",
    "\n",
    "    return pd.DataFrame(inventory_stapshot)\n",
    "\n",
    "def get_actor_orders_df(actor_id):\n",
    "    data=mongo.get_actor_orders(actor_id)\n",
    "    return pd.DataFrame(data[\"orders_\"+str(actor_id)][0]) \n"
   ]
  }
 ],
 "metadata": {
  "kernelspec": {
   "display_name": "Python 3",
   "language": "python",
   "name": "python3"
  },
  "language_info": {
   "codemirror_mode": {
    "name": "ipython",
    "version": 3
   },
   "file_extension": ".py",
   "mimetype": "text/x-python",
   "name": "python",
   "nbconvert_exporter": "python",
   "pygments_lexer": "ipython3",
   "version": "3.9.10"
  }
 },
 "nbformat": 4,
 "nbformat_minor": 5
}
